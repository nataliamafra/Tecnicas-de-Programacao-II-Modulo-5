{
 "cells": [
  {
   "cell_type": "markdown",
   "id": "de0fac3c",
   "metadata": {},
   "source": [
    "# Módulo 5 - Técnicas de Programação II\n",
    "## Aula 3\n",
    "- Gráficos com Matplotlib\n",
    "- Exercícios"
   ]
  },
  {
   "cell_type": "markdown",
   "id": "118d0b68",
   "metadata": {},
   "source": [
    "## Gráficos com Matplotlib\n",
    "O matplotlib é uma biblioteca com recursos para a geração de gráficos 2D a partir de arrays. Gráficos comuns podem ser criados com alta qualidade a partir de comandos simples, inspirados nos comandos gráficos do MATLAB.  \n",
    "Devido a sua alta qualidade e simplicidade de uso é a biblioteca gráfica mais popular para análise de dados. \n",
    "  \n",
    "**Documentação**: https://matplotlib.org/"
   ]
  },
  {
   "cell_type": "markdown",
   "id": "cf8dade5",
   "metadata": {},
   "source": [
    "### Instalação\n",
    "Caso já tenha instalado o pacote do **Matplotlib** ou está na dúvida, basta rodar o seguinte código:"
   ]
  },
  {
   "cell_type": "code",
   "execution_count": null,
   "id": "e9a8552e",
   "metadata": {},
   "outputs": [],
   "source": [
    "import matplotlib"
   ]
  },
  {
   "cell_type": "markdown",
   "id": "61dec06c",
   "metadata": {},
   "source": [
    "Se este código não rodou por erro ou se você não possui este pacote, para obtê-lo é simples, rode a célula abaixo"
   ]
  },
  {
   "cell_type": "code",
   "execution_count": null,
   "id": "c653de59",
   "metadata": {},
   "outputs": [],
   "source": [
    "!pip install matplotlib"
   ]
  },
  {
   "cell_type": "markdown",
   "id": "3dc1016e",
   "metadata": {},
   "source": [
    "### Import da biblioteca\n",
    "  \n",
    "Para utilizarmos o matplotlib importamos o submódulo **pyplot** conforme podem observar na célula abaixo."
   ]
  },
  {
   "cell_type": "code",
   "execution_count": null,
   "id": "e5a2ef68",
   "metadata": {},
   "outputs": [],
   "source": [
    "import matplotlib.pyplot as plt"
   ]
  },
  {
   "cell_type": "markdown",
   "id": "9064be32",
   "metadata": {},
   "source": [
    "O conjunto de funções disponível em **matplotlib.pyplot** permite a criação de uma figura, uma área para exibir o gráfico na figura, desenho de linhas na área do gráfico, decoração do gráfico com rótulos, etc. A sintaxe utilizada é semelhante ao MATLAB.  \n",
    "   \n",
    "Para simplificar o trabalho ainda mais, o pyplot já inicia com uma figura e área de desenho padrão, que você não precisa definir, e assim o código para gerar um gráfico pode ser simplesmente:"
   ]
  },
  {
   "cell_type": "code",
   "execution_count": null,
   "id": "d7b45a0d",
   "metadata": {},
   "outputs": [],
   "source": [
    "x = [1, 2, 3, 4, 5 ,6]\n",
    "y = [10,5,3,4,6,8]\n",
    "plt.plot(x, y)\n",
    "plt.show()"
   ]
  },
  {
   "cell_type": "markdown",
   "id": "e7fee332",
   "metadata": {},
   "source": [
    "Para não haver necessidade de rodar o comando **plt.show()** em todas as plotagens de gráficos utilizamos uma função mágica do matplotlib cujo objetivo é de que a saída dos comandos de plotagem é exibida em linha diretamente abaixo da célula de código que o produziu."
   ]
  },
  {
   "cell_type": "code",
   "execution_count": null,
   "id": "7df18f83",
   "metadata": {},
   "outputs": [],
   "source": [
    "%matplotlib inline"
   ]
  },
  {
   "cell_type": "markdown",
   "id": "61e83b01",
   "metadata": {},
   "source": [
    "Vamos importar também outros pacotes padrões"
   ]
  },
  {
   "cell_type": "code",
   "execution_count": null,
   "id": "fa8b4261",
   "metadata": {},
   "outputs": [],
   "source": [
    "import pandas as pd\n",
    "import numpy as np"
   ]
  },
  {
   "cell_type": "markdown",
   "id": "e2774ed2",
   "metadata": {},
   "source": [
    "## Scatter (dispersão)\n",
    "**Documentação**: https://matplotlib.org/stable/api/_as_gen/matplotlib.pyplot.scatter.html"
   ]
  },
  {
   "cell_type": "code",
   "execution_count": null,
   "id": "4dcbab53",
   "metadata": {},
   "outputs": [],
   "source": [
    "x = np.random.rand(10)\n",
    "y = np.random.rand(10)\n",
    "color = [1, 1, 2, 2, 2, 2, 3, 4, 1, 4]\n",
    "plt.scatter(x, y, c=color);"
   ]
  },
  {
   "cell_type": "markdown",
   "id": "561c0822",
   "metadata": {},
   "source": [
    "Importando o dataset dos pinguins"
   ]
  },
  {
   "cell_type": "code",
   "execution_count": null,
   "id": "b204e867",
   "metadata": {},
   "outputs": [],
   "source": [
    "df_size = pd.read_csv('./data/penguins_size.csv')\n",
    "df_size.head()"
   ]
  },
  {
   "cell_type": "code",
   "execution_count": null,
   "id": "66f76424",
   "metadata": {},
   "outputs": [],
   "source": [
    "plt.scatter(x=df_size['body_mass_g'], y=df_size['culmen_depth_mm']);"
   ]
  },
  {
   "cell_type": "markdown",
   "id": "9dcf5bd4",
   "metadata": {},
   "source": [
    "É possíve verificar a diferença entre as plotagens através do Pandas e Matplotlib por meio do código abaixo."
   ]
  },
  {
   "cell_type": "code",
   "execution_count": null,
   "id": "d11b8cf0",
   "metadata": {
    "scrolled": false
   },
   "outputs": [],
   "source": [
    "plt.scatter(x=df_size['body_mass_g'], y=df_size['culmen_depth_mm'])\n",
    "df_size.plot(x='body_mass_g', y='culmen_depth_mm', kind='scatter');"
   ]
  },
  {
   "cell_type": "markdown",
   "id": "09032f97",
   "metadata": {},
   "source": [
    "Nota-se que visualmente não há muita diferença, porém a sintaxe que gera os gráficos possui certas diferenças."
   ]
  },
  {
   "cell_type": "markdown",
   "id": "521148c5",
   "metadata": {},
   "source": [
    "Podemos alterar as cores dos marcadores através de alguma variável do próprio dataframe como por exemplo o sexo dos pinguins.  \n",
    "  \n",
    "Por padrão o parâmetro *c* do scatter necessita de uma lista apenas com cores ou números. Como no nosso dataframe as categorias são MALE, FEMALE e NaN, apenas alteramos estes valores para 0, 1 e 2. "
   ]
  },
  {
   "cell_type": "code",
   "execution_count": null,
   "id": "6e421b2c",
   "metadata": {},
   "outputs": [],
   "source": [
    "from sklearn import preprocessing"
   ]
  },
  {
   "cell_type": "code",
   "execution_count": null,
   "id": "b252e30f",
   "metadata": {},
   "outputs": [],
   "source": [
    "df_size.dropna(inplace=True)"
   ]
  },
  {
   "cell_type": "code",
   "execution_count": null,
   "id": "bfee490d",
   "metadata": {},
   "outputs": [],
   "source": [
    "## Gráfico de dispersão das medidas do bico do Pinguim, com tamanho variando pelo tamanho do tronco\n",
    "le = preprocessing.LabelEncoder()\n",
    "df_size['sex_encoded'] = le.fit_transform(df_size['sex'])"
   ]
  },
  {
   "cell_type": "code",
   "execution_count": null,
   "id": "222bb976",
   "metadata": {},
   "outputs": [],
   "source": [
    "df_size['sex'].value_counts()"
   ]
  },
  {
   "cell_type": "code",
   "execution_count": null,
   "id": "83b8d839",
   "metadata": {},
   "outputs": [],
   "source": [
    "df_size['sex_encoded'].value_counts()"
   ]
  },
  {
   "cell_type": "code",
   "execution_count": null,
   "id": "09983718",
   "metadata": {
    "scrolled": false
   },
   "outputs": [],
   "source": [
    "ax = plt.scatter(x=df_size['body_mass_g'], y=df_size['culmen_depth_mm'], c=df_size['sex_encoded'])\n",
    "plt.legend(handles=ax.legend_elements()[0], labels=['None', 'Female', 'Male'])\n",
    "plt.xlabel('Massa corporal')\n",
    "plt.ylabel('Altura do bico')\n",
    "plt.title('Relação entre massa corporal e altura do bico dos pinguins');"
   ]
  },
  {
   "cell_type": "markdown",
   "id": "8bdc8fc1",
   "metadata": {},
   "source": [
    "Ajustando o tamanho da figura na qual o gráfico será plotado"
   ]
  },
  {
   "cell_type": "code",
   "execution_count": null,
   "id": "cc714dc2",
   "metadata": {},
   "outputs": [],
   "source": [
    "plt.figure(figsize=(12,6))\n",
    "\n",
    "ax = plt.scatter(x=df_size['body_mass_g'], y=df_size['culmen_depth_mm'], c=df_size['sex_encoded'])\n",
    "plt.legend(handles=ax.legend_elements()[0], labels=['None', 'Female', 'Male'])\n",
    "\n",
    "plt.xlabel('Massa corporal')\n",
    "plt.ylabel('Altura do bico')\n",
    "plt.title('Relação entre massa corporal e altura do bico dos pinguins', fontsize=15);"
   ]
  },
  {
   "cell_type": "markdown",
   "id": "c83dba76",
   "metadata": {},
   "source": [
    "## Linhas\n",
    "**Documentação**: https://matplotlib.org/stable/api/_as_gen/matplotlib.pyplot.plot.html"
   ]
  },
  {
   "cell_type": "code",
   "execution_count": null,
   "id": "1bab6d0a",
   "metadata": {},
   "outputs": [],
   "source": [
    "df_vendas = pd.DataFrame({'Mês' : ['Jan', 'Fev', 'Mar', 'Abr', 'Jan', 'Fev', 'Mar', 'Abr', 'Jan', 'Fev', 'Mar', 'Abr'],\n",
    "                         'Quantidade' : np.random.randint(low=100, size=12),\n",
    "                          'Veículo' : np.repeat(['HB20', 'Onix', 'Sandero'],4)})\n",
    "df_vendas.head()"
   ]
  },
  {
   "cell_type": "code",
   "execution_count": null,
   "id": "a4b547f5",
   "metadata": {
    "scrolled": true
   },
   "outputs": [],
   "source": [
    "plt.plot(df_vendas[df_vendas['Veículo']=='HB20']['Mês'], df_vendas[df_vendas['Veículo']=='HB20']['Quantidade']);"
   ]
  },
  {
   "cell_type": "markdown",
   "id": "311971a2",
   "metadata": {},
   "source": [
    "### Estrutura  \n",
    "No matplotlib, temos dois conceitos importantes:  \n",
    "  \n",
    "* Área de plotagem (eixos ou Axes)\n",
    "    área onde os gráficos (linhas, barras, pontos, labels, ticks, etc) aparecem. Cada Axes possui um eixo-x e eixo-y.\n",
    "* Figure\n",
    "    é o container de nível superior que mantém toda a estrutura. É a janela onde tudo é desenhado e controlado. Dentro dele podemos ter vários gráficos independentes.\n",
    "  \n",
    "  \n",
    "Antes de gerarmos múltiplos gráficos, precisamos decidir:\n",
    "\n",
    "* podemos imprimir dois gráficos, ex: duas linhas, na mesma área de plotagem\n",
    "* ou em áreas de plotagens diferentes."
   ]
  },
  {
   "cell_type": "markdown",
   "id": "55f1e214",
   "metadata": {},
   "source": [
    "**No mesmo Eixo**"
   ]
  },
  {
   "cell_type": "code",
   "execution_count": null,
   "id": "9ad80af0",
   "metadata": {
    "scrolled": true
   },
   "outputs": [],
   "source": [
    "plt.plot('Mês', 'Quantidade', data=df_vendas[df_vendas['Veículo']=='HB20'])\n",
    "plt.plot('Mês', 'Quantidade', data=df_vendas[df_vendas['Veículo']=='Onix'])\n",
    "plt.plot('Mês', 'Quantidade', data=df_vendas[df_vendas['Veículo']=='Sandero']);"
   ]
  },
  {
   "cell_type": "markdown",
   "id": "8cd637ff",
   "metadata": {},
   "source": [
    "**Em vários eixos**  \n",
    "Para plotar os gráficos em vários eixos utilizaresmos o método *plt.subplots*, cuja função é gerar uma figura e um conjunto de eixos pré-posicionados num formato de grade.  \n",
    "  \n",
    "Para isso, ao chamarmos essa função, iremos passar dois argumentos:\n",
    "* nrows: indica quantas linhas. \n",
    "* ncols: indinca quantas colunas.\n",
    "  \n",
    "No exemplo abaixo teremos 4 gráficos sendo, portanto, 2 linhas e 2 colunas. Desta forma, retornará uma tupla de dois elementos:  \n",
    "  \n",
    "* um objeto do tipo Figure que representa a figura  \n",
    "* lista ou matriz de eixos  \n",
    "  \n",
    "Podemos acessar cada eixo usando a notação de colchetes, e invocar a função de plot normalmente."
   ]
  },
  {
   "cell_type": "code",
   "execution_count": null,
   "id": "bb2c7c3c",
   "metadata": {},
   "outputs": [],
   "source": [
    "fig, axs = plt.subplots(2, 2)\n",
    "axs[0,0].text(0.4, 0.5, 'Gráfico[0,0]')\n",
    "axs[0,1].text(0.4, 0.5, 'Gráfico[0,1]')\n",
    "axs[1,0].text(0.4, 0.5, 'Gráfico[1,0]')\n",
    "axs[1,1].text(0.4, 0.5, 'Gráfico[1,1]');"
   ]
  },
  {
   "cell_type": "markdown",
   "id": "106a5062",
   "metadata": {},
   "source": [
    "No exemplo de vendas temos 3 gráficos, por isso é possível fazer os subplots com 3 linhas e 1 coluna ou 1 linha e 3 colunas. Aqui, seguiremos com o segundo cas (1 linha e 3 colunas).  \n",
    "\n",
    "Repare que ao passar nrows=1, espertamente, o matplotlib não devolve uma matriz e sim uma lista.  "
   ]
  },
  {
   "cell_type": "code",
   "execution_count": null,
   "id": "2732f1fd",
   "metadata": {
    "scrolled": true
   },
   "outputs": [],
   "source": [
    "fig, axs = plt.subplots(1, 3, figsize=(12,4))\n",
    "fig.suptitle('Vendas de carros', fontsize=20)\n",
    "axs[0].plot('Mês', 'Quantidade', data=df_vendas[df_vendas['Veículo']=='HB20'], c='red', label = 'HB20')\n",
    "axs[1].plot('Mês', 'Quantidade', data=df_vendas[df_vendas['Veículo']=='Onix'], c='blue', label = 'Onix')\n",
    "axs[2].plot('Mês', 'Quantidade', data=df_vendas[df_vendas['Veículo']=='Sandero'], c='green', label = 'Sandero')\n",
    "\n",
    "axs[0].legend()\n",
    "axs[1].legend()\n",
    "axs[2].legend();"
   ]
  },
  {
   "cell_type": "markdown",
   "id": "7c021bdc",
   "metadata": {},
   "source": [
    "Para diferenciarmos os gráficos podemos utilizar os parâmetros linewidth, linestyle e color. Estes parâmetros podem ser utilizados por meio de abreviações de linewidth = lw, linestyle = ls e color = c."
   ]
  },
  {
   "cell_type": "code",
   "execution_count": null,
   "id": "9b807de7",
   "metadata": {},
   "outputs": [],
   "source": [
    "fig, ax = plt.subplots(figsize=(12,6))\n",
    "\n",
    "ax.plot('Mês', 'Quantidade', data=df_vendas[df_vendas['Veículo']=='HB20'], c='red', ls='--', label='HB20')\n",
    "ax.plot('Mês', 'Quantidade', data=df_vendas[df_vendas['Veículo']=='Onix'], c='blue', ls=':', label='Onix')\n",
    "ax.plot('Mês', 'Quantidade', data=df_vendas[df_vendas['Veículo']=='Sandero'], c='green', ls='-.', label='Sandero', lw=3);\n",
    "\n",
    "ax.set_xlabel('Mês')\n",
    "ax.set_ylabel('Quantidade')\n",
    "ax.set_title('Quantidade de veículos vendidos por mês')\n",
    "\n",
    "ax.legend(loc='upper left');"
   ]
  },
  {
   "cell_type": "code",
   "execution_count": null,
   "id": "6b954725",
   "metadata": {},
   "outputs": [],
   "source": [
    "x = range(10)\n",
    "y1 = [n ** 2 for n in x]\n",
    "y2 = [n ** 3 for n in x]\n",
    "\n",
    "figure = plt.figure(figsize=(8,5))\n",
    "\n",
    "ax1 = figure.add_axes([0.1, 0.05, 0.8, 0.8])\n",
    "ax2 = figure.add_axes([0.2, 0.5, 0.3, 0.3])\n",
    "ax1.plot(x, y1, c='#66CDAA', ls='--', lw=5)\n",
    "ax2.plot(x, y2, c='#FF00FF', marker='o')\n",
    "plt.show()"
   ]
  },
  {
   "cell_type": "markdown",
   "id": "b45f7ddc",
   "metadata": {},
   "source": [
    "Para utilizar cores hexadecimal é possível consultar alguns códigos no link https://celke.com.br/artigo/tabela-de-cores-html-nome-hexadecimal-rgb"
   ]
  },
  {
   "cell_type": "markdown",
   "id": "90e31b3c",
   "metadata": {},
   "source": [
    "## Pizza\n",
    "**Documentação**: https://matplotlib.org/stable/api/_as_gen/matplotlib.pyplot.pie.html"
   ]
  },
  {
   "cell_type": "code",
   "execution_count": null,
   "id": "3b7ec8dc",
   "metadata": {},
   "outputs": [],
   "source": [
    "df_veiculo = df_vendas.pivot_table(index='Veículo', values='Quantidade', aggfunc='sum')\n",
    "df_veiculo.head()"
   ]
  },
  {
   "cell_type": "code",
   "execution_count": null,
   "id": "747f0268",
   "metadata": {},
   "outputs": [],
   "source": [
    "plt.pie('Quantidade', data=df_veiculo);"
   ]
  },
  {
   "cell_type": "code",
   "execution_count": null,
   "id": "1780b43e",
   "metadata": {},
   "outputs": [],
   "source": [
    "plt.pie('Quantidade', data=df_veiculo, autopct='%1.0f%%')\n",
    "plt.legend(labels=['HB20', 'Onix', 'Sandero']);"
   ]
  },
  {
   "cell_type": "code",
   "execution_count": null,
   "id": "ad0e8d91",
   "metadata": {},
   "outputs": [],
   "source": [
    "df_vendas['Mês'] = pd.Categorical(df_vendas['Mês'], categories=[\"Jan\", \"Fev\", \"Mar\", \"Abr\"], ordered=True)\n",
    "df_mes = df_vendas.pivot_table(index='Mês', values='Quantidade', aggfunc='sum')\n",
    "df_mes.head()"
   ]
  },
  {
   "cell_type": "code",
   "execution_count": null,
   "id": "3fcc2015",
   "metadata": {},
   "outputs": [],
   "source": [
    "plt.pie('Quantidade', data=df_mes, autopct='%1.0f%%')\n",
    "plt.legend(labels=['Jan', 'Fev', 'Mar', 'Abr']);"
   ]
  },
  {
   "cell_type": "markdown",
   "id": "b2f58905",
   "metadata": {},
   "source": [
    "## Barras\n",
    "**Documentação**: https://matplotlib.org/stable/api/_as_gen/matplotlib.pyplot.bar.html"
   ]
  },
  {
   "cell_type": "code",
   "execution_count": null,
   "id": "09b1ac70",
   "metadata": {},
   "outputs": [],
   "source": [
    "plt.bar(df_veiculo.index, df_veiculo['Quantidade'], color=['#ADD8E6', '#4682B4', '#4169E1']);"
   ]
  },
  {
   "cell_type": "code",
   "execution_count": null,
   "id": "6adfcaae",
   "metadata": {},
   "outputs": [],
   "source": [
    "ax = plt.bar(df_mes.index, df_mes['Quantidade'], color=['#7FFFD4', '#66CDAA', '#5F9EA0', '#008080'])\n",
    "plt.title('Quantidade de vendas por mês');"
   ]
  },
  {
   "cell_type": "markdown",
   "id": "1807171d",
   "metadata": {},
   "source": [
    "**Barras Horizontais**"
   ]
  },
  {
   "cell_type": "code",
   "execution_count": null,
   "id": "b98b6d04",
   "metadata": {},
   "outputs": [],
   "source": [
    "plt.barh(df_vendas['Veículo'], df_vendas['Quantidade']);"
   ]
  },
  {
   "cell_type": "markdown",
   "id": "47b5af03",
   "metadata": {},
   "source": [
    "## Histograma\n",
    "**Documentação**: https://matplotlib.org/stable/gallery/statistics/hist.html"
   ]
  },
  {
   "cell_type": "code",
   "execution_count": null,
   "id": "6fb4c12a",
   "metadata": {
    "scrolled": true
   },
   "outputs": [],
   "source": [
    "fig, ax = plt.subplots()\n",
    "graf = ax.hist(x=df_size['body_mass_g'], alpha=0.5, color='green', bins=10);"
   ]
  },
  {
   "cell_type": "code",
   "execution_count": null,
   "id": "fbf0b2cf",
   "metadata": {
    "scrolled": true
   },
   "outputs": [],
   "source": [
    "plt.hist(df_size['body_mass_g'], alpha=0.5, color='green', edgecolor='black')\n",
    "plt.xlabel('Massa dos Pinguins', fontsize=12);"
   ]
  },
  {
   "cell_type": "markdown",
   "id": "88db82af",
   "metadata": {},
   "source": [
    "## Boxplot\n",
    "**Documentação**: https://matplotlib.org/3.1.1/api/_as_gen/matplotlib.pyplot.boxplot.html"
   ]
  },
  {
   "cell_type": "code",
   "execution_count": null,
   "id": "8af970e3",
   "metadata": {},
   "outputs": [],
   "source": [
    "plt.boxplot(df_size['body_mass_g'], );"
   ]
  },
  {
   "cell_type": "markdown",
   "id": "3668fd2b",
   "metadata": {},
   "source": [
    "## Exemplo de EDA com Pandas\n",
    "Para exemplificar o processo de Análise Exploratória de Dados utilizaremos um survey respondido por profissionais de TI da União Europeia, com informações pessoais como idade, gênero, cidade e também relacionadas às respectivas carreiras como posição na empresa, anos de experiência."
   ]
  },
  {
   "cell_type": "code",
   "execution_count": null,
   "id": "949295ea",
   "metadata": {},
   "outputs": [],
   "source": [
    "df_red = pd.read_csv('./Wine Quality/winequality-red.csv', sep=';')\n",
    "df_white = pd.read_csv('./Wine Quality/winequality-white.csv', sep=';')"
   ]
  },
  {
   "cell_type": "code",
   "execution_count": null,
   "id": "8815db4c",
   "metadata": {
    "scrolled": false
   },
   "outputs": [],
   "source": [
    "df_white.head()"
   ]
  },
  {
   "cell_type": "code",
   "execution_count": null,
   "id": "a2105fa0",
   "metadata": {},
   "outputs": [],
   "source": [
    "fig, ax = plt.subplots(figsize=(12,6))\n",
    "\n",
    "ax.plot('Mês', 'Quantidade', data=df_vendas[df_vendas['Veículo']=='HB20'], c='red', ls='--', label='HB20')\n",
    "ax.plot('Mês', 'Quantidade', data=df_vendas[df_vendas['Veículo']=='Onix'], c='blue', ls=':', label='Onix')\n",
    "ax.plot('Mês', 'Quantidade', data=df_vendas[df_vendas['Veículo']=='Sandero'], c='green', ls='-.', label='Sandero', lw=3);\n",
    "\n",
    "ax.set_xlabel('Mês')\n",
    "ax.set_ylabel('Quantidade')\n",
    "ax.set_title('Quantidade de veículos vendidos por mês')\n",
    "\n",
    "ax.legend(loc='upper left');"
   ]
  },
  {
   "cell_type": "markdown",
   "id": "a3848f44",
   "metadata": {},
   "source": [
    "## Exercício\n",
    "Agora é hora de praticar!  \n",
    "  \n",
    "Os bancos obtêm uma receita importante com empréstimos concedidos. Mas muitas vezes está associado ao risco. O mutuário pode não pagar o empréstimo. Para mitigar esse problema, os bancos decidiram usar o Machine Learning para superar esse problema. Eles coletaram dados anteriores sobre os tomadores de empréstimos e gostariam que você desenvolvesse um modelo de ML forte para classificar se algum novo devedor provavelmente entrará em default ou não.  \n",
    "  \n",
    "O conjunto de dados é enorme e consiste em vários fatores determinísticos, como renda do mutuário, gênero, finalidade do empréstimo, etc. O conjunto de dados está sujeito a uma forte multicolinearidade e valores vazios. Você pode superar esses fatores e construir um classificador forte para prever inadimplentes?"
   ]
  },
  {
   "cell_type": "markdown",
   "id": "d46cf823",
   "metadata": {},
   "source": [
    "Importe a base **Loan_Default.csv** que está em csv dentro do diretório **data**."
   ]
  },
  {
   "cell_type": "code",
   "execution_count": null,
   "id": "8a440e00",
   "metadata": {},
   "outputs": [],
   "source": []
  },
  {
   "cell_type": "code",
   "execution_count": null,
   "id": "31ec0b31",
   "metadata": {},
   "outputs": [],
   "source": []
  },
  {
   "cell_type": "markdown",
   "id": "aea84c03",
   "metadata": {},
   "source": [
    "Verifique com a função .info os campos presentes na tabela"
   ]
  },
  {
   "cell_type": "code",
   "execution_count": null,
   "id": "410524e6",
   "metadata": {
    "scrolled": true
   },
   "outputs": [],
   "source": []
  },
  {
   "cell_type": "markdown",
   "id": "cd9dd0b7",
   "metadata": {},
   "source": [
    "Imprima as estatísticas padrões do dataframe com a função .describe"
   ]
  },
  {
   "cell_type": "code",
   "execution_count": null,
   "id": "a46c3178",
   "metadata": {},
   "outputs": [],
   "source": []
  },
  {
   "cell_type": "markdown",
   "id": "fcb2e57b",
   "metadata": {},
   "source": [
    "### Gráficos"
   ]
  },
  {
   "cell_type": "code",
   "execution_count": null,
   "id": "960130b4",
   "metadata": {},
   "outputs": [],
   "source": []
  },
  {
   "cell_type": "markdown",
   "id": "030d0606",
   "metadata": {},
   "source": [
    "1) Verifique sua variável de interesse (Status) como a contagem de distribuição"
   ]
  },
  {
   "cell_type": "code",
   "execution_count": null,
   "id": "6ea8e4fe",
   "metadata": {},
   "outputs": [],
   "source": []
  },
  {
   "cell_type": "markdown",
   "id": "f8ac0ec9",
   "metadata": {},
   "source": [
    "2) Construa um gráfico de barras que permita verificar a Bad Rate (média da coluna Status) por tipo de crédito oferecido (credit_type). "
   ]
  },
  {
   "cell_type": "code",
   "execution_count": null,
   "id": "a21d0c85",
   "metadata": {
    "scrolled": true
   },
   "outputs": [],
   "source": []
  },
  {
   "cell_type": "markdown",
   "id": "9996bd14",
   "metadata": {},
   "source": []
  },
  {
   "cell_type": "markdown",
   "id": "7360bc1b",
   "metadata": {},
   "source": [
    "3) Faça um gráfico de dispersão da Credit Score pela média do Status"
   ]
  },
  {
   "cell_type": "code",
   "execution_count": null,
   "id": "d6512349",
   "metadata": {},
   "outputs": [],
   "source": []
  },
  {
   "cell_type": "markdown",
   "id": "8f563dc1",
   "metadata": {},
   "source": []
  },
  {
   "cell_type": "markdown",
   "id": "0677a702",
   "metadata": {},
   "source": [
    "3) Por meio de um gráfico de dispersão, identifique o comportamento da média da variável de interesse (Status) por faixa etária"
   ]
  },
  {
   "cell_type": "code",
   "execution_count": null,
   "id": "36939a40",
   "metadata": {},
   "outputs": [],
   "source": []
  },
  {
   "cell_type": "markdown",
   "id": "991a3ca4",
   "metadata": {},
   "source": []
  },
  {
   "cell_type": "markdown",
   "id": "0eb2434f",
   "metadata": {},
   "source": [
    "4) Construa o histograma do montante de dívida (loan_amount) e verifique como está sua distribuição. Observe o mesmo com um gráfico boxplot."
   ]
  },
  {
   "cell_type": "code",
   "execution_count": null,
   "id": "afc2f056",
   "metadata": {
    "scrolled": true
   },
   "outputs": [],
   "source": []
  },
  {
   "cell_type": "code",
   "execution_count": null,
   "id": "9ad888d7",
   "metadata": {},
   "outputs": [],
   "source": []
  },
  {
   "cell_type": "markdown",
   "id": "d06c1aa3",
   "metadata": {},
   "source": []
  },
  {
   "cell_type": "markdown",
   "id": "c7cc10b5",
   "metadata": {},
   "source": [
    "5) Como se encontra a distribuição das faixas-etárias nesta base de dados.  \n",
    "*Obs.: utilize o gráfico de pizza*"
   ]
  },
  {
   "cell_type": "code",
   "execution_count": null,
   "id": "9650066b",
   "metadata": {},
   "outputs": [],
   "source": []
  },
  {
   "cell_type": "code",
   "execution_count": null,
   "id": "4fb171c5",
   "metadata": {},
   "outputs": [],
   "source": []
  },
  {
   "cell_type": "markdown",
   "id": "b251b382",
   "metadata": {},
   "source": []
  }
 ],
 "metadata": {
  "kernelspec": {
   "display_name": "Python 3 (ipykernel)",
   "language": "python",
   "name": "python3"
  },
  "language_info": {
   "codemirror_mode": {
    "name": "ipython",
    "version": 3
   },
   "file_extension": ".py",
   "mimetype": "text/x-python",
   "name": "python",
   "nbconvert_exporter": "python",
   "pygments_lexer": "ipython3",
   "version": "3.9.7"
  }
 },
 "nbformat": 4,
 "nbformat_minor": 5
}
